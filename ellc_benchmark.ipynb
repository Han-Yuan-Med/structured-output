{
 "cells": [
  {
   "cell_type": "code",
   "execution_count": 1,
   "id": "49e15a89-9c9d-4b97-a503-eb0771608deb",
   "metadata": {},
   "outputs": [],
   "source": [
    "import json\n",
    "import numpy as np\n",
    "import pandas as pd\n",
    "from collections import Counter"
   ]
  },
  {
   "cell_type": "code",
   "execution_count": 2,
   "id": "f58aa042-28b2-4921-b612-8209b24924de",
   "metadata": {},
   "outputs": [
    {
     "name": "stdout",
     "output_type": "stream",
     "text": [
      "GPT-4o accuracy on ELLC (all samples, 4 letter, last position, extraction) 0.976\n"
     ]
    }
   ],
   "source": [
    "with open('data/ellc_4_words_revised.json') as json_data:\n",
    "    data_label = json.load(json_data)\n",
    "# 4 letters, last position, extraction accuracy\n",
    "data_predict = []\n",
    "for j in range(5):\n",
    "    with open(f'ellc_results/test_4_last_extraction_json_{j}.json') as json_data:\n",
    "        data_tmp = json.load(json_data)\n",
    "    data_predict.append(data_tmp)\n",
    "accuracy = []\n",
    "for j in range(5):\n",
    "    acc_list = []\n",
    "    for i in range(len(data_label)):\n",
    "        if data_label[i]['letters'] == data_predict[j][i]['answer']:\n",
    "            acc_list.append(1)\n",
    "        else:\n",
    "            acc_list.append(0)\n",
    "    accuracy.append(sum(np.array(acc_list))/len(acc_list))\n",
    "print(f\"GPT-4o accuracy on ELLC (all samples, 4 letter, last position, extraction) {format(np.average(np.array(accuracy)),'.3f')}\")"
   ]
  },
  {
   "cell_type": "code",
   "execution_count": 3,
   "id": "fe4ac28d-9246-4282-a369-a21a452637da",
   "metadata": {},
   "outputs": [
    {
     "name": "stdout",
     "output_type": "stream",
     "text": [
      "GPT-4o single answer accuracy on ELLC (all samples, 4 letter, last position, rearrangement) 0.832\n",
      "GPT-4o single answer accuracy on ELLC (samples with single answer, 4 letter, last position, rearrangement) 0.820\n",
      "GPT-4o single answer accuracy on ELLC (samples with multi answer, 4 letter, last position, rearrangement) 0.982\n"
     ]
    }
   ],
   "source": [
    "# 4 letters, last position, rearrangement accuracy single answer\n",
    "data_predict = []\n",
    "for j in range(5):\n",
    "    with open(f'ellc_results/test_4_last_json_{j}.json') as json_data:\n",
    "        data_tmp = json.load(json_data)\n",
    "    data_predict.append(data_tmp)\n",
    "accuracy = []\n",
    "for j in range(5):\n",
    "    acc_list = []\n",
    "    for i in range(len(data_label)):\n",
    "        if data_predict[j][i]['answer'] in data_label[i]['filtered_words']:\n",
    "            acc_list.append(1)\n",
    "        else:\n",
    "            acc_list.append(0)\n",
    "    accuracy.append(sum(np.array(acc_list))/len(acc_list))\n",
    "print(f\"GPT-4o single answer accuracy on ELLC (all samples, 4 letter, last position, rearrangement) {format(np.average(np.array(accuracy)),'.3f')}\")\n",
    "\n",
    "accuracy = []\n",
    "for j in range(5):\n",
    "    acc_list = []\n",
    "    for i in range(len(data_label)):\n",
    "        if len(data_label[i]['filtered_words']) == 1:\n",
    "            if data_predict[j][i]['answer'] in data_label[i]['filtered_words']:\n",
    "                acc_list.append(1)\n",
    "            else:\n",
    "                acc_list.append(0)\n",
    "    accuracy.append(sum(np.array(acc_list))/len(acc_list))\n",
    "print(f\"GPT-4o single answer accuracy on ELLC (samples with single answer, 4 letter, last position, rearrangement) {format(np.average(np.array(accuracy)),'.3f')}\")\n",
    "\n",
    "accuracy = []\n",
    "for j in range(5):\n",
    "    acc_list = []\n",
    "    for i in range(len(data_label)):\n",
    "        if len(data_label[i]['filtered_words']) > 1:\n",
    "            if data_predict[j][i]['answer'] in data_label[i]['filtered_words']:\n",
    "                acc_list.append(1)\n",
    "            else:\n",
    "                acc_list.append(0)\n",
    "    accuracy.append(sum(np.array(acc_list))/len(acc_list))\n",
    "print(f\"GPT-4o single answer accuracy on ELLC (samples with multi answer, 4 letter, last position, rearrangement) {format(np.average(np.array(accuracy)),'.3f')}\")"
   ]
  },
  {
   "cell_type": "code",
   "execution_count": 4,
   "id": "aab15df1-bb44-4859-bdd7-aedb2e6db0d0",
   "metadata": {},
   "outputs": [
    {
     "name": "stdout",
     "output_type": "stream",
     "text": [
      "GPT-4o multi answer accuracy on ELLC (all samples, 4 letter, last position, rearrangement) 0.638\n",
      "GPT-4o multi answer accuracy on ELLC (samples with single answer, 4 letter, last position, rearrangement) 0.665\n",
      "GPT-4o multi answer accuracy on ELLC (samples with multi answer, 4 letter, last position, rearrangement) 0.309\n"
     ]
    }
   ],
   "source": [
    "# 4 letters, last position, rearrangement accuracy multi answer\n",
    "data_predict = []\n",
    "for j in range(5):\n",
    "    with open(f'ellc_results/test_4_last_multi_answer_json_{j}.json') as json_data:\n",
    "        data_tmp = json.load(json_data)\n",
    "    data_predict.append(data_tmp)\n",
    "accuracy = []\n",
    "for j in range(5):\n",
    "    acc_list = []\n",
    "    for i in range(len(data_label)):\n",
    "        if Counter(data_predict[j][i]['answer']) == Counter(data_label[i]['filtered_words']):\n",
    "            acc_list.append(1)\n",
    "        else:\n",
    "            acc_list.append(0)\n",
    "    accuracy.append(sum(np.array(acc_list))/len(acc_list))\n",
    "print(f\"GPT-4o multi answer accuracy on ELLC (all samples, 4 letter, last position, rearrangement) {format(np.average(np.array(accuracy)),'.3f')}\")\n",
    "\n",
    "accuracy = []\n",
    "for j in range(5):\n",
    "    acc_list = []\n",
    "    for i in range(len(data_label)):\n",
    "        if len(data_label[i]['filtered_words'])==1:  \n",
    "            if Counter(data_predict[j][i]['answer']) == Counter(data_label[i]['filtered_words']):\n",
    "                acc_list.append(1)\n",
    "            else:\n",
    "                acc_list.append(0)\n",
    "    accuracy.append(sum(np.array(acc_list))/len(acc_list))\n",
    "print(f\"GPT-4o multi answer accuracy on ELLC (samples with single answer, 4 letter, last position, rearrangement) {format(np.average(np.array(accuracy)),'.3f')}\")\n",
    "\n",
    "accuracy = []\n",
    "for j in range(5):\n",
    "    acc_list = []\n",
    "    for i in range(len(data_label)):\n",
    "        if len(data_label[i]['filtered_words'])>1:\n",
    "            if Counter(data_predict[j][i]['answer']) == Counter(data_label[i]['filtered_words']):\n",
    "                acc_list.append(1)\n",
    "            else:\n",
    "                acc_list.append(0)\n",
    "    accuracy.append(sum(np.array(acc_list))/len(acc_list))\n",
    "print(f\"GPT-4o multi answer accuracy on ELLC (samples with multi answer, 4 letter, last position, rearrangement) {format(np.average(np.array(accuracy)),'.3f')}\")"
   ]
  },
  {
   "cell_type": "code",
   "execution_count": 5,
   "id": "3233f42e-3a98-48de-a0ce-b41e2e07925b",
   "metadata": {},
   "outputs": [
    {
     "name": "stdout",
     "output_type": "stream",
     "text": [
      "GPT-4o accuracy on ELLC (all samples, 4 letter, middle position, extraction) 0.615\n"
     ]
    }
   ],
   "source": [
    "with open('data/emlc_4_words_revised.json') as json_data:\n",
    "    data_label = json.load(json_data)\n",
    "# 4 letters, middle position, extraction accuracy\n",
    "data_predict = []\n",
    "for j in range(5):\n",
    "    with open(f'ellc_results/test_4_middle_extraction_json_{j}.json') as json_data:\n",
    "        data_tmp = json.load(json_data)\n",
    "    data_predict.append(data_tmp)\n",
    "accuracy = []\n",
    "for j in range(5):\n",
    "    acc_list = []\n",
    "    for i in range(len(data_label)):\n",
    "        if data_label[i]['letters'] == data_predict[j][i]['answer']:\n",
    "            acc_list.append(1)\n",
    "        else:\n",
    "            acc_list.append(0)\n",
    "    accuracy.append(sum(np.array(acc_list))/len(acc_list))\n",
    "print(f\"GPT-4o accuracy on ELLC (all samples, 4 letter, middle position, extraction) {format(np.average(np.array(accuracy)),'.3f')}\")"
   ]
  },
  {
   "cell_type": "code",
   "execution_count": 6,
   "id": "6b2c0f93-8732-48ed-95e0-e9059a201072",
   "metadata": {},
   "outputs": [
    {
     "name": "stdout",
     "output_type": "stream",
     "text": [
      "GPT-4o single answer accuracy on ELLC (all samples, 4 letter, middle position, rearrangement) 0.509\n",
      "GPT-4o single answer accuracy on ELLC (samples with single answer, 4 letter, middle position, rearrangement) 0.500\n",
      "GPT-4o single answer accuracy on ELLC (samples with multi answer, 4 letter, middle position, rearrangement) 0.612\n"
     ]
    }
   ],
   "source": [
    "# 4 letters, middle position, rearrangement accuracy single answer\n",
    "data_predict = []\n",
    "for j in range(5):\n",
    "    with open(f'ellc_results/test_4_middle_json_{j}.json') as json_data:\n",
    "        data_tmp = json.load(json_data)\n",
    "    data_predict.append(data_tmp)\n",
    "accuracy = []\n",
    "for j in range(5):\n",
    "    acc_list = []\n",
    "    for i in range(len(data_label)):\n",
    "        if data_predict[j][i]['answer'] in data_label[i]['filtered_words']:\n",
    "            acc_list.append(1)\n",
    "        else:\n",
    "            acc_list.append(0)\n",
    "    accuracy.append(sum(np.array(acc_list))/len(acc_list))\n",
    "print(f\"GPT-4o single answer accuracy on ELLC (all samples, 4 letter, middle position, rearrangement) {format(np.average(np.array(accuracy)),'.3f')}\")\n",
    "\n",
    "accuracy = []\n",
    "for j in range(5):\n",
    "    acc_list = []\n",
    "    for i in range(len(data_label)):\n",
    "        if len(data_label[i]['filtered_words']) == 1:\n",
    "            if data_predict[j][i]['answer'] in data_label[i]['filtered_words']:\n",
    "                acc_list.append(1)\n",
    "            else:\n",
    "                acc_list.append(0)\n",
    "    accuracy.append(sum(np.array(acc_list))/len(acc_list))\n",
    "print(f\"GPT-4o single answer accuracy on ELLC (samples with single answer, 4 letter, middle position, rearrangement) {format(np.average(np.array(accuracy)),'.3f')}\")\n",
    "\n",
    "accuracy = []\n",
    "for j in range(5):\n",
    "    acc_list = []\n",
    "    for i in range(len(data_label)):\n",
    "        if len(data_label[i]['filtered_words']) > 1:\n",
    "            if data_predict[j][i]['answer'] in data_label[i]['filtered_words']:\n",
    "                acc_list.append(1)\n",
    "            else:\n",
    "                acc_list.append(0)\n",
    "    accuracy.append(sum(np.array(acc_list))/len(acc_list))\n",
    "print(f\"GPT-4o single answer accuracy on ELLC (samples with multi answer, 4 letter, middle position, rearrangement) {format(np.average(np.array(accuracy)),'.3f')}\")"
   ]
  },
  {
   "cell_type": "code",
   "execution_count": 7,
   "id": "b8d678e3-be60-49b5-b9e2-55da1d621f38",
   "metadata": {},
   "outputs": [
    {
     "name": "stdout",
     "output_type": "stream",
     "text": [
      "GPT-4o multi answer accuracy on ELLC (all samples, 4 letter, middle position, rearrangement) 0.396\n",
      "GPT-4o multi answer accuracy on ELLC (samples with single answer, 4 letter, middle position, rearrangement) 0.415\n",
      "GPT-4o multi answer accuracy on ELLC (samples with multi answer, 4 letter, middle position, rearrangement) 0.176\n"
     ]
    }
   ],
   "source": [
    "# 4 letters, middle position, rearrangement accuracy multi answer\n",
    "data_predict = []\n",
    "for j in range(5):\n",
    "    with open(f'ellc_results/test_4_middle_multi_answer_json_{j}.json') as json_data:\n",
    "        data_tmp = json.load(json_data)\n",
    "    data_predict.append(data_tmp)\n",
    "accuracy = []\n",
    "for j in range(5):\n",
    "    acc_list = []\n",
    "    for i in range(len(data_label)):\n",
    "        if Counter(data_predict[j][i]['answer']) == Counter(data_label[i]['filtered_words']):\n",
    "            acc_list.append(1)\n",
    "        else:\n",
    "            acc_list.append(0)\n",
    "    accuracy.append(sum(np.array(acc_list))/len(acc_list))\n",
    "print(f\"GPT-4o multi answer accuracy on ELLC (all samples, 4 letter, middle position, rearrangement) {format(np.average(np.array(accuracy)),'.3f')}\")\n",
    "\n",
    "accuracy = []\n",
    "for j in range(5):\n",
    "    acc_list = []\n",
    "    for i in range(len(data_label)):\n",
    "        if len(data_label[i]['filtered_words'])==1:  \n",
    "            if Counter(data_predict[j][i]['answer']) == Counter(data_label[i]['filtered_words']):\n",
    "                acc_list.append(1)\n",
    "            else:\n",
    "                acc_list.append(0)\n",
    "    accuracy.append(sum(np.array(acc_list))/len(acc_list))\n",
    "print(f\"GPT-4o multi answer accuracy on ELLC (samples with single answer, 4 letter, middle position, rearrangement) {format(np.average(np.array(accuracy)),'.3f')}\")\n",
    "\n",
    "accuracy = []\n",
    "for j in range(5):\n",
    "    acc_list = []\n",
    "    for i in range(len(data_label)):\n",
    "        if len(data_label[i]['filtered_words'])>1:\n",
    "            if Counter(data_predict[j][i]['answer']) == Counter(data_label[i]['filtered_words']):\n",
    "                acc_list.append(1)\n",
    "            else:\n",
    "                acc_list.append(0)\n",
    "    accuracy.append(sum(np.array(acc_list))/len(acc_list))\n",
    "print(f\"GPT-4o multi answer accuracy on ELLC (samples with multi answer, 4 letter, middle position, rearrangement) {format(np.average(np.array(accuracy)),'.3f')}\")"
   ]
  },
  {
   "cell_type": "code",
   "execution_count": 8,
   "id": "6cc453a3-7895-47cf-879b-5fae0d966a71",
   "metadata": {},
   "outputs": [
    {
     "name": "stdout",
     "output_type": "stream",
     "text": [
      "GPT-4o accuracy on ELLC (all samples, 6 letter, last position, extraction) 0.863\n"
     ]
    }
   ],
   "source": [
    "with open('data/ellc_6_words_revised.json') as json_data:\n",
    "    data_label = json.load(json_data)\n",
    "# 6 letters, last position, extraction accuracy\n",
    "data_predict = []\n",
    "for j in range(5):\n",
    "    with open(f'ellc_results/test_6_last_extraction_json_{j}.json') as json_data:\n",
    "        data_tmp = json.load(json_data)\n",
    "    data_predict.append(data_tmp)\n",
    "accuracy = []\n",
    "for j in range(5):\n",
    "    acc_list = []\n",
    "    for i in range(len(data_label)):\n",
    "        if data_label[i]['letters'] == data_predict[j][i]['answer']:\n",
    "            acc_list.append(1)\n",
    "        else:\n",
    "            acc_list.append(0)\n",
    "    accuracy.append(sum(np.array(acc_list))/len(acc_list))\n",
    "print(f\"GPT-4o accuracy on ELLC (all samples, 6 letter, last position, extraction) {format(np.average(np.array(accuracy)),'.3f')}\")"
   ]
  },
  {
   "cell_type": "code",
   "execution_count": 9,
   "id": "9c3e6aa8-e66a-432b-9d0b-9ee361c3141a",
   "metadata": {},
   "outputs": [
    {
     "name": "stdout",
     "output_type": "stream",
     "text": [
      "GPT-4o single answer accuracy on ELLC (all samples, 6 letter, last position, rearrangement) 0.669\n",
      "GPT-4o single answer accuracy on ELLC (samples with single answer, 6 letter, last position, rearrangement) 0.662\n",
      "GPT-4o single answer accuracy on ELLC (samples with multi answer, 6 letter, last position, rearrangement) 0.818\n"
     ]
    }
   ],
   "source": [
    "# 6 letters, last position, rearrangement accuracy single answer\n",
    "data_predict = []\n",
    "for j in range(5):\n",
    "    with open(f'ellc_results/test_6_last_json_{j}.json') as json_data:\n",
    "        data_tmp = json.load(json_data)\n",
    "    data_predict.append(data_tmp)\n",
    "accuracy = []\n",
    "for j in range(5):\n",
    "    acc_list = []\n",
    "    for i in range(len(data_label)):\n",
    "        if data_predict[j][i]['answer'] in data_label[i]['filtered_words']:\n",
    "            acc_list.append(1)\n",
    "        else:\n",
    "            acc_list.append(0)\n",
    "    accuracy.append(sum(np.array(acc_list))/len(acc_list))\n",
    "print(f\"GPT-4o single answer accuracy on ELLC (all samples, 6 letter, last position, rearrangement) {format(np.average(np.array(accuracy)),'.3f')}\")\n",
    "\n",
    "accuracy = []\n",
    "for j in range(5):\n",
    "    acc_list = []\n",
    "    for i in range(len(data_label)):\n",
    "        if len(data_label[i]['filtered_words']) == 1:\n",
    "            if data_predict[j][i]['answer'] in data_label[i]['filtered_words']:\n",
    "                acc_list.append(1)\n",
    "            else:\n",
    "                acc_list.append(0)\n",
    "    accuracy.append(sum(np.array(acc_list))/len(acc_list))\n",
    "print(f\"GPT-4o single answer accuracy on ELLC (samples with single answer, 6 letter, last position, rearrangement) {format(np.average(np.array(accuracy)),'.3f')}\")\n",
    "\n",
    "accuracy = []\n",
    "for j in range(5):\n",
    "    acc_list = []\n",
    "    for i in range(len(data_label)):\n",
    "        if len(data_label[i]['filtered_words']) > 1:\n",
    "            if data_predict[j][i]['answer'] in data_label[i]['filtered_words']:\n",
    "                acc_list.append(1)\n",
    "            else:\n",
    "                acc_list.append(0)\n",
    "    accuracy.append(sum(np.array(acc_list))/len(acc_list))\n",
    "print(f\"GPT-4o single answer accuracy on ELLC (samples with multi answer, 6 letter, last position, rearrangement) {format(np.average(np.array(accuracy)),'.3f')}\")"
   ]
  },
  {
   "cell_type": "code",
   "execution_count": 10,
   "id": "0eaf02ff-3239-4cc8-b7cb-58e4e8f4edcc",
   "metadata": {},
   "outputs": [
    {
     "name": "stdout",
     "output_type": "stream",
     "text": [
      "GPT-4o multi answer accuracy on ELLC (all samples, 6 letter, last position, rearrangement) 0.430\n",
      "GPT-4o multi answer accuracy on ELLC (samples with single answer, 6 letter, last position, rearrangement) 0.439\n",
      "GPT-4o multi answer accuracy on ELLC (samples with multi answer, 6 letter, last position, rearrangement) 0.225\n"
     ]
    }
   ],
   "source": [
    "# 6 letters, last position, rearrangement accuracy multi answer\n",
    "data_predict = []\n",
    "for j in range(5):\n",
    "    with open(f'ellc_results/test_6_last_multi_answer_json_{j}.json') as json_data:\n",
    "        data_tmp = json.load(json_data)\n",
    "    data_predict.append(data_tmp)\n",
    "accuracy = []\n",
    "for j in range(5):\n",
    "    acc_list = []\n",
    "    for i in range(len(data_label)):\n",
    "        if Counter(data_predict[j][i]['answer']) == Counter(data_label[i]['filtered_words']):\n",
    "            acc_list.append(1)\n",
    "        else:\n",
    "            acc_list.append(0)\n",
    "    accuracy.append(sum(np.array(acc_list))/len(acc_list))\n",
    "print(f\"GPT-4o multi answer accuracy on ELLC (all samples, 6 letter, last position, rearrangement) {format(np.average(np.array(accuracy)),'.3f')}\")\n",
    "\n",
    "accuracy = []\n",
    "for j in range(5):\n",
    "    acc_list = []\n",
    "    for i in range(len(data_label)):\n",
    "        if len(data_label[i]['filtered_words'])==1:  \n",
    "            if Counter(data_predict[j][i]['answer']) == Counter(data_label[i]['filtered_words']):\n",
    "                acc_list.append(1)\n",
    "            else:\n",
    "                acc_list.append(0)\n",
    "    accuracy.append(sum(np.array(acc_list))/len(acc_list))\n",
    "print(f\"GPT-4o multi answer accuracy on ELLC (samples with single answer, 6 letter, last position, rearrangement) {format(np.average(np.array(accuracy)),'.3f')}\")\n",
    "\n",
    "accuracy = []\n",
    "for j in range(5):\n",
    "    acc_list = []\n",
    "    for i in range(len(data_label)):\n",
    "        if len(data_label[i]['filtered_words'])>1:\n",
    "            if Counter(data_predict[j][i]['answer']) == Counter(data_label[i]['filtered_words']):\n",
    "                acc_list.append(1)\n",
    "            else:\n",
    "                acc_list.append(0)\n",
    "    accuracy.append(sum(np.array(acc_list))/len(acc_list))\n",
    "print(f\"GPT-4o multi answer accuracy on ELLC (samples with multi answer, 6 letter, last position, rearrangement) {format(np.average(np.array(accuracy)),'.3f')}\")"
   ]
  },
  {
   "cell_type": "code",
   "execution_count": 11,
   "id": "f029020d-7ac3-4dfa-8117-07b6ebc0b481",
   "metadata": {},
   "outputs": [
    {
     "name": "stdout",
     "output_type": "stream",
     "text": [
      "GPT-4o accuracy on ELLC (all samples, 6 letter, middle position, extraction) 0.334\n"
     ]
    }
   ],
   "source": [
    "with open('data/emlc_6_words_revised.json') as json_data:\n",
    "    data_label = json.load(json_data)\n",
    "# 6 letters, middle position, extraction accuracy\n",
    "data_predict = []\n",
    "for j in range(5):\n",
    "    with open(f'ellc_results/test_6_middle_extraction_json_{j}.json') as json_data:\n",
    "        data_tmp = json.load(json_data)\n",
    "    data_predict.append(data_tmp)\n",
    "accuracy = []\n",
    "for j in range(5):\n",
    "    acc_list = []\n",
    "    for i in range(len(data_label)):\n",
    "        if data_label[i]['letters'] == data_predict[j][i]['answer']:\n",
    "            acc_list.append(1)\n",
    "        else:\n",
    "            acc_list.append(0)\n",
    "    accuracy.append(sum(np.array(acc_list))/len(acc_list))\n",
    "print(f\"GPT-4o accuracy on ELLC (all samples, 6 letter, middle position, extraction) {format(np.average(np.array(accuracy)),'.3f')}\")"
   ]
  },
  {
   "cell_type": "code",
   "execution_count": 12,
   "id": "4b83f818-2ff9-4506-93a6-9041f679bc1c",
   "metadata": {},
   "outputs": [
    {
     "name": "stdout",
     "output_type": "stream",
     "text": [
      "GPT-4o single answer accuracy on ELLC (all samples, 6 letter, middle position, rearrangement) 0.286\n",
      "GPT-4o single answer accuracy on ELLC (samples with single answer, 6 letter, middle position, rearrangement) 0.286\n",
      "GPT-4o single answer accuracy on ELLC (samples with multi answer, 6 letter, middle position, rearrangement) 0.304\n"
     ]
    }
   ],
   "source": [
    "# 6 letters, middle position, rearrangement accuracy single answer\n",
    "data_predict = []\n",
    "for j in range(5):\n",
    "    with open(f'ellc_results/test_6_middle_json_{j}.json') as json_data:\n",
    "        data_tmp = json.load(json_data)\n",
    "    data_predict.append(data_tmp)\n",
    "accuracy = []\n",
    "for j in range(5):\n",
    "    acc_list = []\n",
    "    for i in range(len(data_label)):\n",
    "        if data_predict[j][i]['answer'] in data_label[i]['filtered_words']:\n",
    "            acc_list.append(1)\n",
    "        else:\n",
    "            acc_list.append(0)\n",
    "    accuracy.append(sum(np.array(acc_list))/len(acc_list))\n",
    "print(f\"GPT-4o single answer accuracy on ELLC (all samples, 6 letter, middle position, rearrangement) {format(np.average(np.array(accuracy)),'.3f')}\")\n",
    "\n",
    "accuracy = []\n",
    "for j in range(5):\n",
    "    acc_list = []\n",
    "    for i in range(len(data_label)):\n",
    "        if len(data_label[i]['filtered_words']) == 1:\n",
    "            if data_predict[j][i]['answer'] in data_label[i]['filtered_words']:\n",
    "                acc_list.append(1)\n",
    "            else:\n",
    "                acc_list.append(0)\n",
    "    accuracy.append(sum(np.array(acc_list))/len(acc_list))\n",
    "print(f\"GPT-4o single answer accuracy on ELLC (samples with single answer, 6 letter, middle position, rearrangement) {format(np.average(np.array(accuracy)),'.3f')}\")\n",
    "\n",
    "accuracy = []\n",
    "for j in range(5):\n",
    "    acc_list = []\n",
    "    for i in range(len(data_label)):\n",
    "        if len(data_label[i]['filtered_words']) > 1:\n",
    "            if data_predict[j][i]['answer'] in data_label[i]['filtered_words']:\n",
    "                acc_list.append(1)\n",
    "            else:\n",
    "                acc_list.append(0)\n",
    "    accuracy.append(sum(np.array(acc_list))/len(acc_list))\n",
    "print(f\"GPT-4o single answer accuracy on ELLC (samples with multi answer, 6 letter, middle position, rearrangement) {format(np.average(np.array(accuracy)),'.3f')}\")"
   ]
  },
  {
   "cell_type": "code",
   "execution_count": 13,
   "id": "dbb2e7ac-5dc3-40e5-977c-f2bcd48e7f5f",
   "metadata": {},
   "outputs": [
    {
     "name": "stdout",
     "output_type": "stream",
     "text": [
      "GPT-4o multi answer accuracy on ELLC (all samples, 6 letter, middle position, rearrangement) 0.185\n",
      "GPT-4o multi answer accuracy on ELLC (samples with single answer, 6 letter, middle position, rearrangement) 0.189\n",
      "GPT-4o multi answer accuracy on ELLC (samples with multi answer, 6 letter, middle position, rearrangement) 0.082\n"
     ]
    }
   ],
   "source": [
    "# 6 letters, middle position, rearrangement accuracy multi answer\n",
    "data_predict = []\n",
    "for j in range(5):\n",
    "    with open(f'ellc_results/test_6_middle_multi_answer_json_{j}.json') as json_data:\n",
    "        data_tmp = json.load(json_data)\n",
    "    data_predict.append(data_tmp)\n",
    "accuracy = []\n",
    "for j in range(5):\n",
    "    acc_list = []\n",
    "    for i in range(len(data_label)):\n",
    "        if Counter(data_predict[j][i]['answer']) == Counter(data_label[i]['filtered_words']):\n",
    "            acc_list.append(1)\n",
    "        else:\n",
    "            acc_list.append(0)\n",
    "    accuracy.append(sum(np.array(acc_list))/len(acc_list))\n",
    "print(f\"GPT-4o multi answer accuracy on ELLC (all samples, 6 letter, middle position, rearrangement) {format(np.average(np.array(accuracy)),'.3f')}\")\n",
    "\n",
    "accuracy = []\n",
    "for j in range(5):\n",
    "    acc_list = []\n",
    "    for i in range(len(data_label)):\n",
    "        if len(data_label[i]['filtered_words'])==1:  \n",
    "            if Counter(data_predict[j][i]['answer']) == Counter(data_label[i]['filtered_words']):\n",
    "                acc_list.append(1)\n",
    "            else:\n",
    "                acc_list.append(0)\n",
    "    accuracy.append(sum(np.array(acc_list))/len(acc_list))\n",
    "print(f\"GPT-4o multi answer accuracy on ELLC (samples with single answer, 6 letter, middle position, rearrangement) {format(np.average(np.array(accuracy)),'.3f')}\")\n",
    "\n",
    "accuracy = []\n",
    "for j in range(5):\n",
    "    acc_list = []\n",
    "    for i in range(len(data_label)):\n",
    "        if len(data_label[i]['filtered_words'])>1:\n",
    "            if Counter(data_predict[j][i]['answer']) == Counter(data_label[i]['filtered_words']):\n",
    "                acc_list.append(1)\n",
    "            else:\n",
    "                acc_list.append(0)\n",
    "    accuracy.append(sum(np.array(acc_list))/len(acc_list))\n",
    "print(f\"GPT-4o multi answer accuracy on ELLC (samples with multi answer, 6 letter, middle position, rearrangement) {format(np.average(np.array(accuracy)),'.3f')}\")"
   ]
  }
 ],
 "metadata": {
  "kernelspec": {
   "display_name": "Python 3",
   "language": "python",
   "name": "python3"
  },
  "language_info": {
   "codemirror_mode": {
    "name": "ipython",
    "version": 3
   },
   "file_extension": ".py",
   "mimetype": "text/x-python",
   "name": "python",
   "nbconvert_exporter": "python",
   "pygments_lexer": "ipython3",
   "version": "3.7.13"
  }
 },
 "nbformat": 4,
 "nbformat_minor": 5
}
